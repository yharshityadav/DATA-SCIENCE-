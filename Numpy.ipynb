{
  "nbformat": 4,
  "nbformat_minor": 0,
  "metadata": {
    "colab": {
      "provenance": [],
      "authorship_tag": "ABX9TyNXCh8aut4jtPZUloUiBkW5",
      "include_colab_link": true
    },
    "kernelspec": {
      "name": "python3",
      "display_name": "Python 3"
    },
    "language_info": {
      "name": "python"
    }
  },
  "cells": [
    {
      "cell_type": "markdown",
      "metadata": {
        "id": "view-in-github",
        "colab_type": "text"
      },
      "source": [
        "<a href=\"https://colab.research.google.com/github/yharshityadav/DATA-SCIENCE-/blob/main/Numpy.ipynb\" target=\"_parent\"><img src=\"https://colab.research.google.com/assets/colab-badge.svg\" alt=\"Open In Colab\"/></a>"
      ]
    },
    {
      "cell_type": "markdown",
      "source": [
        "Matrix Manipulation in Python\n",
        "\n",
        "\n",
        "---\n",
        "\n",
        "\n",
        "Operation on Matrix"
      ],
      "metadata": {
        "id": "9Fz-5PZdlhtn"
      }
    },
    {
      "cell_type": "markdown",
      "source": [
        "1) .add() - This function is used to perform element wise matrix addtion"
      ],
      "metadata": {
        "id": "BtUD5Hrilw-7"
      }
    },
    {
      "cell_type": "code",
      "source": [
        "A = np.array([[1,2],[3,4]])\n",
        "B = np.array([[5,6],[7,8]])\n",
        "np.add(A,B)"
      ],
      "metadata": {
        "colab": {
          "base_uri": "https://localhost:8080/"
        },
        "id": "121xSoVQlvO5",
        "outputId": "00fb01e9-1dc8-40c1-f021-746f8f14f948"
      },
      "execution_count": null,
      "outputs": [
        {
          "output_type": "execute_result",
          "data": {
            "text/plain": [
              "array([[ 6,  8],\n",
              "       [10, 12]])"
            ]
          },
          "metadata": {},
          "execution_count": 4
        }
      ]
    },
    {
      "cell_type": "markdown",
      "source": [
        "2) .subtract() = This function is used to perform element wise matrix substraction"
      ],
      "metadata": {
        "id": "Q1Y-GteAmXsh"
      }
    },
    {
      "cell_type": "code",
      "execution_count": null,
      "metadata": {
        "colab": {
          "base_uri": "https://localhost:8080/"
        },
        "id": "qg_0-B_Ylcis",
        "outputId": "ffd99f0e-aa5f-44bf-903b-273142a0ac5f"
      },
      "outputs": [
        {
          "output_type": "execute_result",
          "data": {
            "text/plain": [
              "array([[-4, -4],\n",
              "       [-4, -4]])"
            ]
          },
          "metadata": {},
          "execution_count": 5
        }
      ],
      "source": [
        "A = np.array([[1,2],[3,4]])\n",
        "B = np.array([[5,6],[7,8]])\n",
        "np.subtract(A,B)"
      ]
    },
    {
      "cell_type": "markdown",
      "source": [
        "3) .divide() - This function is used to perform element wise matrix division"
      ],
      "metadata": {
        "id": "WmKQmoepmtwQ"
      }
    },
    {
      "cell_type": "code",
      "source": [
        "A = np.array([[1,2],[3,4]])\n",
        "B = np.array([[5,6],[7,8]])\n",
        "np.divide(A,B)"
      ],
      "metadata": {
        "colab": {
          "base_uri": "https://localhost:8080/"
        },
        "id": "wVnhDMYUmszA",
        "outputId": "55f26074-4850-426d-b9b9-05587fda615e"
      },
      "execution_count": null,
      "outputs": [
        {
          "output_type": "execute_result",
          "data": {
            "text/plain": [
              "array([[0.2       , 0.33333333],\n",
              "       [0.42857143, 0.5       ]])"
            ]
          },
          "metadata": {},
          "execution_count": 7
        }
      ]
    },
    {
      "cell_type": "markdown",
      "source": [
        "4) .multiply() - This function is used to perform element wise matrix multiplication"
      ],
      "metadata": {
        "id": "Yme7PBo3nACG"
      }
    },
    {
      "cell_type": "code",
      "source": [
        "A = np.array([[1,2],[3,4]])\n",
        "B = np.array([[5,6],[7,8]])\n",
        "np.multiply(A,B)"
      ],
      "metadata": {
        "colab": {
          "base_uri": "https://localhost:8080/"
        },
        "id": "jahyMTyWm_RT",
        "outputId": "82143a7c-4f2e-4eac-adf8-e01e350f7915"
      },
      "execution_count": null,
      "outputs": [
        {
          "output_type": "execute_result",
          "data": {
            "text/plain": [
              "array([[ 5, 12],\n",
              "       [21, 32]])"
            ]
          },
          "metadata": {},
          "execution_count": 10
        }
      ]
    },
    {
      "cell_type": "markdown",
      "source": [
        "5) .dot() - This function is used to compute the amtrix multiplication, rather than element wise multiplication"
      ],
      "metadata": {
        "id": "Fxmw7aTVnZW_"
      }
    },
    {
      "cell_type": "code",
      "source": [
        "A = np.array([[1,2],[3,4]])\n",
        "B = np.array([[5,6],[7,8]])\n",
        "np.dot(A,B)"
      ],
      "metadata": {
        "colab": {
          "base_uri": "https://localhost:8080/"
        },
        "id": "kZSpunDUnYyk",
        "outputId": "3ddf66db-11c4-46ac-f514-ddb7f8e5daf6"
      },
      "execution_count": null,
      "outputs": [
        {
          "output_type": "execute_result",
          "data": {
            "text/plain": [
              "array([[19, 22],\n",
              "       [43, 50]])"
            ]
          },
          "metadata": {},
          "execution_count": 12
        }
      ]
    },
    {
      "cell_type": "markdown",
      "source": [
        "6) .sqrt() - This function is used to compute the square root of each element of matrix"
      ],
      "metadata": {
        "id": "AW_ILgKmnpuy"
      }
    },
    {
      "cell_type": "code",
      "source": [
        "A = np.array([[1,2],[3,4]])\n",
        "np.sqrt(A)"
      ],
      "metadata": {
        "colab": {
          "base_uri": "https://localhost:8080/"
        },
        "id": "4T4FwjclnovT",
        "outputId": "699b5152-30b0-47e3-8a1e-4fcf7d149bb1"
      },
      "execution_count": null,
      "outputs": [
        {
          "output_type": "execute_result",
          "data": {
            "text/plain": [
              "array([[1.        , 1.41421356],\n",
              "       [1.73205081, 2.        ]])"
            ]
          },
          "metadata": {},
          "execution_count": 14
        }
      ]
    },
    {
      "cell_type": "markdown",
      "source": [
        "7) .Sum(x,axis) - This function is used to add all element in matrix. Optional \"axis\" argument computes the column sum if axis is 0 and row sum if axis is 1"
      ],
      "metadata": {
        "id": "5uZ6hvRRoHnL"
      }
    },
    {
      "cell_type": "code",
      "source": [
        "A = np.array([[1,2],[3,4]])\n",
        "print(np.sum(A))\n",
        "print(np.sum(A,axis=0))\n",
        "print(np.sum(A,axis=1))"
      ],
      "metadata": {
        "colab": {
          "base_uri": "https://localhost:8080/"
        },
        "id": "eAkozXe7oHEI",
        "outputId": "9aec95f9-b686-4269-e32d-d948365a3605"
      },
      "execution_count": null,
      "outputs": [
        {
          "output_type": "stream",
          "name": "stdout",
          "text": [
            "10\n",
            "[4 6]\n",
            "[3 7]\n"
          ]
        }
      ]
    },
    {
      "cell_type": "markdown",
      "source": [
        "8) \"T\" - This argument is used to transpose the specified matrix"
      ],
      "metadata": {
        "id": "eNbkZ2puosSW"
      }
    },
    {
      "cell_type": "code",
      "source": [
        "A = np.array([[1,2],[3,4]])\n",
        "A.T"
      ],
      "metadata": {
        "colab": {
          "base_uri": "https://localhost:8080/"
        },
        "id": "pHGKjMqWorhO",
        "outputId": "67b72644-2d59-4be1-963d-d331e1cf4593"
      },
      "execution_count": null,
      "outputs": [
        {
          "output_type": "execute_result",
          "data": {
            "text/plain": [
              "array([[1, 3],\n",
              "       [2, 4]])"
            ]
          },
          "metadata": {},
          "execution_count": 23
        }
      ]
    }
  ]
}