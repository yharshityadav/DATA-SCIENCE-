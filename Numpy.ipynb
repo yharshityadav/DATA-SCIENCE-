{
  "nbformat": 4,
  "nbformat_minor": 0,
  "metadata": {
    "colab": {
      "provenance": [],
      "authorship_tag": "ABX9TyPJHyriQwHCPCvCQ8QptV+V",
      "include_colab_link": true
    },
    "kernelspec": {
      "name": "python3",
      "display_name": "Python 3"
    },
    "language_info": {
      "name": "python"
    }
  },
  "cells": [
    {
      "cell_type": "markdown",
      "metadata": {
        "id": "view-in-github",
        "colab_type": "text"
      },
      "source": [
        "<a href=\"https://colab.research.google.com/github/yharshityadav/DATA-SCIENCE-/blob/main/Numpy.ipynb\" target=\"_parent\"><img src=\"https://colab.research.google.com/assets/colab-badge.svg\" alt=\"Open In Colab\"/></a>"
      ]
    },
    {
      "cell_type": "markdown",
      "source": [
        "**Matrix Manipulation in Python**\n",
        "\n",
        "\n",
        "---\n",
        "\n",
        "\n",
        "**Operation on Matrix**"
      ],
      "metadata": {
        "id": "9Fz-5PZdlhtn"
      }
    },
    {
      "cell_type": "markdown",
      "source": [
        "1) .add() - This function is used to perform element wise matrix addtion"
      ],
      "metadata": {
        "id": "BtUD5Hrilw-7"
      }
    },
    {
      "cell_type": "code",
      "source": [
        "A = np.array([[1,2],[3,4]])\n",
        "B = np.array([[5,6],[7,8]])\n",
        "np.add(A,B)"
      ],
      "metadata": {
        "colab": {
          "base_uri": "https://localhost:8080/"
        },
        "id": "121xSoVQlvO5",
        "outputId": "00fb01e9-1dc8-40c1-f021-746f8f14f948"
      },
      "execution_count": null,
      "outputs": [
        {
          "output_type": "execute_result",
          "data": {
            "text/plain": [
              "array([[ 6,  8],\n",
              "       [10, 12]])"
            ]
          },
          "metadata": {},
          "execution_count": 4
        }
      ]
    },
    {
      "cell_type": "markdown",
      "source": [
        "2) .subtract() = This function is used to perform element wise matrix substraction"
      ],
      "metadata": {
        "id": "Q1Y-GteAmXsh"
      }
    },
    {
      "cell_type": "code",
      "execution_count": null,
      "metadata": {
        "colab": {
          "base_uri": "https://localhost:8080/"
        },
        "id": "qg_0-B_Ylcis",
        "outputId": "ffd99f0e-aa5f-44bf-903b-273142a0ac5f"
      },
      "outputs": [
        {
          "output_type": "execute_result",
          "data": {
            "text/plain": [
              "array([[-4, -4],\n",
              "       [-4, -4]])"
            ]
          },
          "metadata": {},
          "execution_count": 5
        }
      ],
      "source": [
        "A = np.array([[1,2],[3,4]])\n",
        "B = np.array([[5,6],[7,8]])\n",
        "np.subtract(A,B)"
      ]
    },
    {
      "cell_type": "markdown",
      "source": [
        "3) .divide() - This function is used to perform element wise matrix division"
      ],
      "metadata": {
        "id": "WmKQmoepmtwQ"
      }
    },
    {
      "cell_type": "code",
      "source": [
        "A = np.array([[1,2],[3,4]])\n",
        "B = np.array([[5,6],[7,8]])\n",
        "np.divide(A,B)"
      ],
      "metadata": {
        "colab": {
          "base_uri": "https://localhost:8080/"
        },
        "id": "wVnhDMYUmszA",
        "outputId": "55f26074-4850-426d-b9b9-05587fda615e"
      },
      "execution_count": null,
      "outputs": [
        {
          "output_type": "execute_result",
          "data": {
            "text/plain": [
              "array([[0.2       , 0.33333333],\n",
              "       [0.42857143, 0.5       ]])"
            ]
          },
          "metadata": {},
          "execution_count": 7
        }
      ]
    },
    {
      "cell_type": "markdown",
      "source": [
        "4) .multiply() - This function is used to perform element wise matrix multiplication"
      ],
      "metadata": {
        "id": "Yme7PBo3nACG"
      }
    },
    {
      "cell_type": "code",
      "source": [
        "A = np.array([[1,2],[3,4]])\n",
        "B = np.array([[5,6],[7,8]])\n",
        "np.multiply(A,B)"
      ],
      "metadata": {
        "colab": {
          "base_uri": "https://localhost:8080/"
        },
        "id": "jahyMTyWm_RT",
        "outputId": "82143a7c-4f2e-4eac-adf8-e01e350f7915"
      },
      "execution_count": null,
      "outputs": [
        {
          "output_type": "execute_result",
          "data": {
            "text/plain": [
              "array([[ 5, 12],\n",
              "       [21, 32]])"
            ]
          },
          "metadata": {},
          "execution_count": 10
        }
      ]
    },
    {
      "cell_type": "markdown",
      "source": [
        "5) .dot() - This function is used to compute the amtrix multiplication, rather than element wise multiplication"
      ],
      "metadata": {
        "id": "Fxmw7aTVnZW_"
      }
    },
    {
      "cell_type": "code",
      "source": [
        "A = np.array([[1,2],[3,4]])\n",
        "B = np.array([[5,6],[7,8]])\n",
        "np.dot(A,B)"
      ],
      "metadata": {
        "colab": {
          "base_uri": "https://localhost:8080/"
        },
        "id": "kZSpunDUnYyk",
        "outputId": "3ddf66db-11c4-46ac-f514-ddb7f8e5daf6"
      },
      "execution_count": null,
      "outputs": [
        {
          "output_type": "execute_result",
          "data": {
            "text/plain": [
              "array([[19, 22],\n",
              "       [43, 50]])"
            ]
          },
          "metadata": {},
          "execution_count": 12
        }
      ]
    },
    {
      "cell_type": "markdown",
      "source": [
        "6) .sqrt() - This function is used to compute the square root of each element of matrix"
      ],
      "metadata": {
        "id": "AW_ILgKmnpuy"
      }
    },
    {
      "cell_type": "code",
      "source": [
        "A = np.array([[1,2],[3,4]])\n",
        "np.sqrt(A)"
      ],
      "metadata": {
        "colab": {
          "base_uri": "https://localhost:8080/"
        },
        "id": "4T4FwjclnovT",
        "outputId": "699b5152-30b0-47e3-8a1e-4fcf7d149bb1"
      },
      "execution_count": null,
      "outputs": [
        {
          "output_type": "execute_result",
          "data": {
            "text/plain": [
              "array([[1.        , 1.41421356],\n",
              "       [1.73205081, 2.        ]])"
            ]
          },
          "metadata": {},
          "execution_count": 14
        }
      ]
    },
    {
      "cell_type": "markdown",
      "source": [
        "7) .Sum(x,axis) - This function is used to add all element in matrix. Optional \"axis\" argument computes the column sum if axis is 0 and row sum if axis is 1"
      ],
      "metadata": {
        "id": "5uZ6hvRRoHnL"
      }
    },
    {
      "cell_type": "code",
      "source": [
        "A = np.array([[1,2],[3,4]])\n",
        "print(np.sum(A))\n",
        "print(np.sum(A,axis=0))\n",
        "print(np.sum(A,axis=1))"
      ],
      "metadata": {
        "colab": {
          "base_uri": "https://localhost:8080/"
        },
        "id": "eAkozXe7oHEI",
        "outputId": "9aec95f9-b686-4269-e32d-d948365a3605"
      },
      "execution_count": null,
      "outputs": [
        {
          "output_type": "stream",
          "name": "stdout",
          "text": [
            "10\n",
            "[4 6]\n",
            "[3 7]\n"
          ]
        }
      ]
    },
    {
      "cell_type": "markdown",
      "source": [
        "8) \"T\" - This argument is used to transpose the specified matrix"
      ],
      "metadata": {
        "id": "eNbkZ2puosSW"
      }
    },
    {
      "cell_type": "code",
      "source": [
        "A = np.array([[1,2],[3,4]])\n",
        "A.T"
      ],
      "metadata": {
        "colab": {
          "base_uri": "https://localhost:8080/"
        },
        "id": "pHGKjMqWorhO",
        "outputId": "4ab048e4-1dac-4c89-bbc3-48ed3b0086e8"
      },
      "execution_count": null,
      "outputs": [
        {
          "output_type": "execute_result",
          "data": {
            "text/plain": [
              "array([[1, 3],\n",
              "       [2, 4]])"
            ]
          },
          "metadata": {},
          "execution_count": 24
        }
      ]
    },
    {
      "cell_type": "code",
      "source": [
        "A = np.array([[1,2],[3,4]])\n",
        "np.transpose(A)"
      ],
      "metadata": {
        "colab": {
          "base_uri": "https://localhost:8080/"
        },
        "id": "GznIHyofq3uw",
        "outputId": "7838e0a5-1a53-46ce-df0e-e36e710cb18c"
      },
      "execution_count": null,
      "outputs": [
        {
          "output_type": "execute_result",
          "data": {
            "text/plain": [
              "array([[1, 3],\n",
              "       [2, 4]])"
            ]
          },
          "metadata": {},
          "execution_count": 26
        }
      ]
    },
    {
      "cell_type": "markdown",
      "source": [
        "9) .empty() - This function is used to perform a operation in which it make a empty matrix according to argument which you want to pass"
      ],
      "metadata": {
        "id": "xzMZpks4rIxf"
      }
    },
    {
      "cell_type": "code",
      "source": [
        "np.empty((2,3))"
      ],
      "metadata": {
        "colab": {
          "base_uri": "https://localhost:8080/"
        },
        "id": "HfVsXirVrB7f",
        "outputId": "411e5757-5e4b-4e1d-86cf-bba5169ccf22"
      },
      "execution_count": null,
      "outputs": [
        {
          "output_type": "execute_result",
          "data": {
            "text/plain": [
              "array([[5.57257149e-315, 0.00000000e+000, 1.50008929e+248],\n",
              "       [1.50008929e+248, 5.95139232e+228, 3.12701935e-085]])"
            ]
          },
          "metadata": {},
          "execution_count": 30
        }
      ]
    },
    {
      "cell_type": "markdown",
      "source": [
        "10) .ones() - This function is used to perform a operation in which it make a matrix which have only value \"1\" according to argument which you want to pass"
      ],
      "metadata": {
        "id": "VT_tgec0rVrZ"
      }
    },
    {
      "cell_type": "code",
      "source": [
        "np.ones((3,3))"
      ],
      "metadata": {
        "colab": {
          "base_uri": "https://localhost:8080/"
        },
        "id": "tUqObU-prVBW",
        "outputId": "7da7a807-3444-4278-9c6c-80fb857e6a5f"
      },
      "execution_count": null,
      "outputs": [
        {
          "output_type": "execute_result",
          "data": {
            "text/plain": [
              "array([[1., 1., 1.],\n",
              "       [1., 1., 1.],\n",
              "       [1., 1., 1.]])"
            ]
          },
          "metadata": {},
          "execution_count": 31
        }
      ]
    },
    {
      "cell_type": "markdown",
      "source": [
        "11) .zeros() - This function is used to perform a operation in which it make a matrix which have only value \"0\" according to argument which you want to pass"
      ],
      "metadata": {
        "id": "iCq-VjvasMDb"
      }
    },
    {
      "cell_type": "code",
      "source": [
        "np.zeros((5,4))"
      ],
      "metadata": {
        "colab": {
          "base_uri": "https://localhost:8080/"
        },
        "id": "rf-mlUYBsE9C",
        "outputId": "92fca144-ee1d-40b4-9e1f-d28bcc00df83"
      },
      "execution_count": null,
      "outputs": [
        {
          "output_type": "execute_result",
          "data": {
            "text/plain": [
              "array([[0., 0., 0., 0.],\n",
              "       [0., 0., 0., 0.],\n",
              "       [0., 0., 0., 0.],\n",
              "       [0., 0., 0., 0.],\n",
              "       [0., 0., 0., 0.]])"
            ]
          },
          "metadata": {},
          "execution_count": 34
        }
      ]
    },
    {
      "cell_type": "markdown",
      "source": [
        "12) .eye() - This function is used to perform a operation in which it make a matrix in which (N - no. of rows; M - no. of columns; K - index of matrix)"
      ],
      "metadata": {
        "id": "ry-n8XQes2EC"
      }
    },
    {
      "cell_type": "code",
      "source": [
        "print(np.eye(2,k=0, dtype = int))\n",
        "print(np.eye(N = 3, M = 4, k = 2, dtype = int))"
      ],
      "metadata": {
        "colab": {
          "base_uri": "https://localhost:8080/"
        },
        "id": "YK7PpXcKsr1n",
        "outputId": "b201d815-6457-470d-d23a-ae484480a76f"
      },
      "execution_count": null,
      "outputs": [
        {
          "output_type": "stream",
          "name": "stdout",
          "text": [
            "[[1 0]\n",
            " [0 1]]\n",
            "[[0 0 1 0]\n",
            " [0 0 0 1]\n",
            " [0 0 0 0]]\n"
          ]
        }
      ]
    },
    {
      "cell_type": "markdown",
      "source": [
        "13) .identity() - This function is used to perform a operation in which it make a identity matrix according to argument which you want to pass"
      ],
      "metadata": {
        "id": "XBTO7NWZuNWv"
      }
    },
    {
      "cell_type": "code",
      "source": [
        "print(np.identity(3, dtype = int))"
      ],
      "metadata": {
        "colab": {
          "base_uri": "https://localhost:8080/"
        },
        "id": "Jdu_zV1puDzE",
        "outputId": "046e6324-a7d1-42e7-e9fe-cae092b1928f"
      },
      "execution_count": null,
      "outputs": [
        {
          "output_type": "stream",
          "name": "stdout",
          "text": [
            "[[1 0 0]\n",
            " [0 1 0]\n",
            " [0 0 1]]\n"
          ]
        }
      ]
    },
    {
      "cell_type": "markdown",
      "source": [
        "**Creating Arrays Commands**\n",
        "\n",
        "\n",
        "---\n",
        "\n",
        "One Dimensional Array\n",
        "\n",
        "From Python list    np.array([1,2,3,4,5,6])\n",
        "\n",
        "Form Python Tuple   np.array((1,2,3,4,5,6))\n",
        "\n",
        "Fromiter() Function np.fromiter((a for a in range(8)), float)\n",
        "\n",
        "\n",
        "\n",
        "---\n",
        "\n",
        "▶ Create a Numpy array from a list\n",
        "\n",
        "A = [1,2,3,4]\n",
        "\n",
        "print(np.array(A))\n",
        "\n",
        "▶ Create a Numpy array from a tuple\n",
        "\n",
        "B = (5,6,7,8)\n",
        "\n",
        "print(np.array(B))\n",
        "\n",
        "▶ Create a Numpy array using fromiter()\n",
        "\n",
        "C = (a for a in range(8))\n",
        "\n",
        "print(np.fromiter(C, float)\n",
        "\n"
      ],
      "metadata": {
        "id": "TN-r1HkNO_se"
      }
    },
    {
      "cell_type": "code",
      "source": [
        "import numpy as np\n",
        "print(np.array([1,2,3,4,5,6]))\n",
        "print(np.array((1,2,3,4,5,6)))\n",
        "print(np.fromiter((a for a in range(8)), float))\n",
        "print(np.fromiter((a for a in range(8)), int))"
      ],
      "metadata": {
        "colab": {
          "base_uri": "https://localhost:8080/"
        },
        "id": "qw-F-N9guSqQ",
        "outputId": "ef06ff03-48aa-447e-a542-013b6f050e13"
      },
      "execution_count": 7,
      "outputs": [
        {
          "output_type": "stream",
          "name": "stdout",
          "text": [
            "[1 2 3 4 5 6]\n",
            "[1 2 3 4 5 6]\n",
            "[0. 1. 2. 3. 4. 5. 6. 7.]\n",
            "[0 1 2 3 4 5 6 7]\n"
          ]
        }
      ]
    },
    {
      "cell_type": "markdown",
      "source": [
        "Multi - Dimensional Array\n",
        "\n",
        "From Python Lists  np.array([[1,2,3,4],[5,6,7,8],[9,10,11,12]])\n",
        "\n",
        "Using empty()      np.empty([4,3]. dtype = int)\n",
        "\n",
        "\n",
        "\n",
        "---\n",
        "\n",
        "\n",
        "▶ Create a Numpy array from a list\n",
        "\n",
        "A = [1,2,3,4]\n",
        "\n",
        "B = [5,6,7,8]\n",
        "\n",
        "C = [9,10,11,12]\n",
        "\n",
        "print(np.array([A, B, C])\n",
        "\n",
        "▶ Create a Numpy array using numpy.empty()\n",
        "\n",
        "print(np.empty([5,3], dtype = int)\n"
      ],
      "metadata": {
        "id": "YF4NsdGfRXSB"
      }
    },
    {
      "cell_type": "code",
      "source": [
        "print(np.array([[1,2,3,4],[5,6,7,8],[9,10,11,12]]))\n",
        "print(np.empty([5,3]))"
      ],
      "metadata": {
        "colab": {
          "base_uri": "https://localhost:8080/"
        },
        "id": "c2xHW4fXRSgG",
        "outputId": "f2afddc3-fd0f-464d-e83f-199909dfa142"
      },
      "execution_count": 12,
      "outputs": [
        {
          "output_type": "stream",
          "name": "stdout",
          "text": [
            "[[ 1  2  3  4]\n",
            " [ 5  6  7  8]\n",
            " [ 9 10 11 12]]\n",
            "[[5.14042519e-315 0.00000000e+000 0.00000000e+000]\n",
            " [0.00000000e+000 4.16100321e+156 1.50008929e+248]\n",
            " [4.31174539e-096 9.80058441e+252 1.23971686e+224]\n",
            " [2.59032973e-144 6.06003395e+233 1.06400250e+248]\n",
            " [2.59050167e-144 5.22286946e-143 6.32404027e-322]]\n"
          ]
        }
      ]
    },
    {
      "cell_type": "markdown",
      "source": [
        "**Initial Placeholders**\n",
        "\n",
        "One Dimensional Array\n",
        "\n",
        "\n",
        "\n",
        "---\n",
        "\n",
        "arange()             np.arange(1, 21)\n",
        "\n",
        "linspace()           np.linspace(1, 21, 3)\n",
        "\n",
        "zeros()              np.zeros(3, dtype = int)\n",
        "\n",
        "ones()               np.ones(4, dype = int)\n",
        "\n",
        "random.rand()        np.random.rand(4)\n",
        "\n",
        "random.randint()     np.random.randint(6, size = 10)\n",
        "\n",
        "\n",
        "\n",
        "---\n",
        "\n",
        "▶ Create a Numpy array Using numpy.arange()\n",
        "\n",
        "print(np.arange(1, 20))\n",
        "\n",
        "▶ Create a Numpy array using numpy.linspace()\n",
        "\n",
        "print(np.linspace(1, 20 3))\n",
        "\n",
        "▶ Create a Numpy array using numpy.zeros()\n",
        "\n",
        "print(np.zeros(4, dtype = int))\n",
        "\n",
        "▶ Create a Numpy array using numpy.ones()\n",
        "\n",
        "print(np.ones(3, dtype = int))\n",
        "\n",
        "▶ Create a Numpy array using numpy.random.rand()\n",
        "\n",
        "print(np.random.rand(3))\n",
        "\n",
        "▶ Create a Numpy array using numpy.random,.randint()\n",
        "\n",
        "print(np.random.randint(3, size = 10))"
      ],
      "metadata": {
        "id": "vpHBiyzVT8r_"
      }
    },
    {
      "cell_type": "code",
      "source": [
        "print(np.arange(1,20))\n",
        "print(np.zeros(4, dtype =int))\n",
        "print(np.ones(3, dtype = int))\n",
        "print(np.linspace(1,10,5, dtype = int))\n",
        "print(np.random.rand(4))\n",
        "print(np.random.randint(5, size=10))"
      ],
      "metadata": {
        "colab": {
          "base_uri": "https://localhost:8080/"
        },
        "id": "vi4oDhCaT71n",
        "outputId": "90db4391-5e0f-4b4e-da90-2df0bf2260b0"
      },
      "execution_count": 22,
      "outputs": [
        {
          "output_type": "stream",
          "name": "stdout",
          "text": [
            "[ 1  2  3  4  5  6  7  8  9 10 11 12 13 14 15 16 17 18 19]\n",
            "[0 0 0 0]\n",
            "[1 1 1]\n",
            "[ 1  3  5  7 10]\n",
            "[0.29659354 0.33100971 0.98074656 0.15663081]\n",
            "[4 2 4 0 3 2 1 3 2 3]\n"
          ]
        }
      ]
    },
    {
      "cell_type": "markdown",
      "source": [
        "\n"
      ],
      "metadata": {
        "id": "7qGwHVc0dRFS"
      }
    },
    {
      "cell_type": "code",
      "source": [
        "print(np.zeros([2,4]))\n",
        "print(np.ones([3,5]))\n",
        "print(np.eye(4))\n",
        "print(np.full(5,4))"
      ],
      "metadata": {
        "colab": {
          "base_uri": "https://localhost:8080/"
        },
        "id": "9m0Q3u5BdQUJ",
        "outputId": "678ed70b-1853-4630-833a-4684dbfa57f7"
      },
      "execution_count": 26,
      "outputs": [
        {
          "output_type": "stream",
          "name": "stdout",
          "text": [
            "[[0. 0. 0. 0.]\n",
            " [0. 0. 0. 0.]]\n",
            "[[1. 1. 1. 1. 1.]\n",
            " [1. 1. 1. 1. 1.]\n",
            " [1. 1. 1. 1. 1.]]\n",
            "[[1. 0. 0. 0.]\n",
            " [0. 1. 0. 0.]\n",
            " [0. 0. 1. 0.]\n",
            " [0. 0. 0. 1.]]\n",
            "[4 4 4 4 4]\n"
          ]
        }
      ]
    },
    {
      "cell_type": "markdown",
      "source": [
        "**Inspecting Properties**\n",
        "\n",
        "\n",
        "\n",
        "---\n",
        "\n",
        "Size                              arr.size()\n",
        "\n",
        "length                            len(arr)\n",
        "\n",
        "Shape                             arr.shape()\n",
        "\n",
        "Datatype                          arr.dtype()\n",
        "\n",
        "Changing Datatype of array        arr.stype('float64')\n",
        "\n",
        "Converting array to list         arr.tolist()\n",
        "\n",
        "checking dimension               aa.ndim()\n"
      ],
      "metadata": {
        "id": "FUqt4akSneLg"
      }
    },
    {
      "cell_type": "code",
      "source": [
        "A = np.array([[1,2,4,3],[3,4,5,4]])\n",
        "print(np.size(A))\n",
        "print(A.dtype)\n",
        "print(np.shape(A))\n",
        "print(np.ndim(A))\n",
        "print(len(A))\n",
        "print(A.astype('float64'))\n",
        "print(A.tolist())\n"
      ],
      "metadata": {
        "colab": {
          "base_uri": "https://localhost:8080/"
        },
        "id": "Vey2Hmy9kDxx",
        "outputId": "5ebe20ed-87b3-48ea-897c-ae3e93372b5a"
      },
      "execution_count": 44,
      "outputs": [
        {
          "output_type": "stream",
          "name": "stdout",
          "text": [
            "8\n",
            "int64\n",
            "(2, 4)\n",
            "2\n",
            "2\n",
            "[[1. 2. 4. 3.]\n",
            " [3. 4. 5. 4.]]\n",
            "[[1, 2, 4, 3], [3, 4, 5, 4]]\n"
          ]
        }
      ]
    },
    {
      "cell_type": "markdown",
      "source": [
        "**Numpy Array Mathematics**\n",
        "\n",
        "Arithmetic Operation\n",
        "\n",
        "Add             np.add(A,B)\n",
        "\n",
        "subtract        np.subtract(A,B)\n",
        "\n",
        "Mutliply        np.multiply(A,B)\n",
        "\n",
        "Divide          np.divide(A,B)\n",
        "\n",
        "Modula          np.mod(A,B)\n",
        "\n",
        "Remainder       np.remainder(A,B)\n",
        "\n",
        "Power           np.power(A,B)\n",
        "\n",
        "Exponent        np.exp(A)\n"
      ],
      "metadata": {
        "id": "FVXo9fK6oEpS"
      }
    },
    {
      "cell_type": "code",
      "source": [
        "A = np.array([1,2,3,4])\n",
        "B = np.array([1,2,3,4])\n",
        "print(np.add(A,B))\n",
        "print(np.subtract(A,B))\n",
        "print(np.divide(A,B))\n",
        "print(np.mod(A,B))\n",
        "print(np.power(A,B))\n",
        "print(np.exp(A))\n",
        "print(np.remainder(A,B))\n",
        "print(np.multiply(A,B))"
      ],
      "metadata": {
        "colab": {
          "base_uri": "https://localhost:8080/"
        },
        "id": "uumIgPQyoDKv",
        "outputId": "b67b275b-baa7-4b1f-e293-7f5902f2e94d"
      },
      "execution_count": 55,
      "outputs": [
        {
          "output_type": "stream",
          "name": "stdout",
          "text": [
            "[2 4 6 8]\n",
            "[0 0 0 0]\n",
            "[1. 1. 1. 1.]\n",
            "[0 0 0 0]\n",
            "[  1   4  27 256]\n",
            "[ 2.71828183  7.3890561  20.08553692 54.59815003]\n",
            "[0 0 0 0]\n",
            "[ 1  4  9 16]\n"
          ]
        }
      ]
    },
    {
      "cell_type": "markdown",
      "source": [
        "**Comparison**\n",
        "\n",
        "A = np.array([[1,2],[3,4]])\n",
        "\n",
        "B = np.array([[1,2],[4,5]])\n",
        "\n",
        "comparison = A == B\n",
        "\n",
        "c = comparison.all()\n",
        "\n",
        "print(c)"
      ],
      "metadata": {
        "id": "sMm8CvvKshIy"
      }
    },
    {
      "cell_type": "code",
      "source": [
        "A = np.array([[1,2],[3,4]])\n",
        "B = np.array([[1,2],[4,4]])\n",
        "comparison = A == B\n",
        "print(comparison)\n",
        "\n",
        "C = comparison.all()\n",
        "print(C)\n"
      ],
      "metadata": {
        "colab": {
          "base_uri": "https://localhost:8080/"
        },
        "id": "xhWmDmArsgiT",
        "outputId": "6b532caf-b928-443e-e175-f7e6648fce64"
      },
      "execution_count": 61,
      "outputs": [
        {
          "output_type": "stream",
          "name": "stdout",
          "text": [
            "[[ True  True]\n",
            " [False  True]]\n",
            "False\n"
          ]
        }
      ]
    },
    {
      "cell_type": "markdown",
      "source": [
        "**Vector Math**\n",
        "\n",
        "\n",
        "---\n",
        "\n",
        "\n",
        "\n",
        "Applying delete() method\n",
        "\n",
        "print(np.delete(A, 0))\n",
        "\n",
        "Applying sqrt() method\n",
        "\n",
        "print(np.sqrt(A))\n",
        "\n",
        "Applying absolute() method\n",
        "\n",
        "print(np.abs(A))\n",
        "\n",
        "Applying floor() method\n",
        "\n",
        "print(np.floor(A))\n",
        "\n",
        "Applying ceil() method\n",
        "\n",
        "print(np.ceil(A))\n",
        "\n",
        "Applying sin() method\n",
        "\n",
        "print(np.sin(A))\n",
        "\n",
        "Applying log() method\n",
        "\n",
        "print(np.log(A))\n",
        "\n",
        "Applying round() method\n",
        "\n",
        "print(np.round(A))"
      ],
      "metadata": {
        "id": "-BrS3ichtcMR"
      }
    },
    {
      "cell_type": "code",
      "source": [
        "A = np.array([1,2,3,4,5,6])\n",
        "print(np.delete(A, 0))\n",
        "print(np.log(A))\n",
        "print(np.sin(A))\n",
        "print(np.sqrt(A))\n",
        "print(np.ceil(A))\n",
        "print(np.floor(A))\n",
        "print(np.round(A))\n",
        "print(np.abs(A))\n"
      ],
      "metadata": {
        "colab": {
          "base_uri": "https://localhost:8080/"
        },
        "id": "cKhGKxHQtbtB",
        "outputId": "6d241546-4502-4bb6-a950-c8261334e861"
      },
      "execution_count": 67,
      "outputs": [
        {
          "output_type": "stream",
          "name": "stdout",
          "text": [
            "[2 3 4 5 6]\n",
            "[0.         0.69314718 1.09861229 1.38629436 1.60943791 1.79175947]\n",
            "[ 0.84147098  0.90929743  0.14112001 -0.7568025  -0.95892427 -0.2794155 ]\n",
            "[1.         1.41421356 1.73205081 2.         2.23606798 2.44948974]\n",
            "[1. 2. 3. 4. 5. 6.]\n",
            "[1. 2. 3. 4. 5. 6.]\n",
            "[1 2 3 4 5 6]\n",
            "[1 2 3 4 5 6]\n"
          ]
        }
      ]
    },
    {
      "cell_type": "markdown",
      "source": [
        "**Statistic**\n",
        "\n",
        "\n",
        "---\n",
        "\n",
        "▶ Mean\n",
        "\n",
        "print(np.mean(aar))\n",
        "\n",
        "▶ Median\n",
        "\n",
        "print(np.meadina(arr))\n",
        "\n",
        "▶ Min and Max\n",
        "\n",
        "print(np.min(arr))\n",
        "\n",
        "print(np.max(arr))\n",
        "\n",
        "▶ V:ariance\n",
        "\n",
        "print(np.var(arr))\n",
        "\n",
        "▶ Standard Deviation\n",
        "\n",
        "print(np.std(arr))\n",
        "\n",
        "\n",
        "\n",
        "---\n",
        "\n",
        "Correlation coefficient\n",
        "\n",
        "\n",
        "---\n",
        "\n",
        "rslt = np.corrcoef(arr1,arr2)\n",
        "\n",
        "print(rslt)\n"
      ],
      "metadata": {
        "id": "FEdPRJzmwa1l"
      }
    },
    {
      "cell_type": "code",
      "source": [
        "A = np.array([1,2,3,4])\n",
        "print(np.mean(A))\n",
        "print(np.median(A))\n",
        "print(np.min(A))\n",
        "print(np.max(A))\n",
        "print(np.var(A))\n",
        "print(np.std(A))\n",
        "B = np.array([9,8,7,6])\n",
        "print(np.corrcoef(A,B))"
      ],
      "metadata": {
        "id": "wGw_UpwpwaH4",
        "outputId": "fddad6b8-9f86-438f-8656-25216aba74a0",
        "colab": {
          "base_uri": "https://localhost:8080/"
        }
      },
      "execution_count": 71,
      "outputs": [
        {
          "output_type": "stream",
          "name": "stdout",
          "text": [
            "2.5\n",
            "2.5\n",
            "1\n",
            "4\n",
            "1.25\n",
            "1.118033988749895\n",
            "[[ 1. -1.]\n",
            " [-1.  1.]]\n"
          ]
        }
      ]
    }
  ]
}